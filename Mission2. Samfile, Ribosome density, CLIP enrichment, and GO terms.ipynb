{
 "cells": [
  {
   "cell_type": "code",
   "execution_count": 20,
   "metadata": {},
   "outputs": [],
   "source": [
    "from collections import defaultdict\n",
    "import math\n",
    "import os"
   ]
  },
  {
   "cell_type": "code",
   "execution_count": 60,
   "metadata": {},
   "outputs": [],
   "source": [
    "import numpy as np\n",
    "import pandas as pd\n",
    "import matplotlib.pyplot as plt\n",
    "import pysam\n",
    "from scipy import stats"
   ]
  },
  {
   "cell_type": "code",
   "execution_count": null,
   "metadata": {},
   "outputs": [],
   "source": []
  },
  {
   "cell_type": "code",
   "execution_count": 78,
   "metadata": {},
   "outputs": [
    {
     "data": {
      "text/plain": [
       "['polya-untreated',\n",
       " 'polya-siLuc',\n",
       " 'polya-siLin28a',\n",
       " 'clip-35L33G',\n",
       " 'rpf-siLuc',\n",
       " 'rpf-siLin28a']"
      ]
     },
     "execution_count": 78,
     "metadata": {},
     "output_type": "execute_result"
    }
   ],
   "source": [
    "SAMPLES = os.listdir('../raw/')\n",
    "SAMPLES"
   ]
  },
  {
   "cell_type": "code",
   "execution_count": null,
   "metadata": {},
   "outputs": [],
   "source": []
  },
  {
   "cell_type": "markdown",
   "metadata": {},
   "source": [
    "# 1. Bam --> {sample : {gene ID : read count}}"
   ]
  },
  {
   "cell_type": "code",
   "execution_count": 4,
   "metadata": {},
   "outputs": [],
   "source": [
    "def read_count_per_gene(fileIn):\n",
    "    iterBam       = pysam.AlignmentFile(fileIn, 'rb')\n",
    "    dctReads      = remove_multimapped_reads(iterBam)\n",
    "    dctGenes      = ignore_redundant_isoforms(dctReads)\n",
    "    dctReadCounts = count_reads(dctGenes)\n",
    "    return dctReadCounts"
   ]
  },
  {
   "cell_type": "code",
   "execution_count": null,
   "metadata": {},
   "outputs": [],
   "source": []
  },
  {
   "cell_type": "code",
   "execution_count": 5,
   "metadata": {},
   "outputs": [],
   "source": [
    "def remove_multimapped_reads(iterBam):\n",
    "    dctReads = defaultdict(set)\n",
    "    for read in iterBam:\n",
    "        if read.flag & 4 == 4: # FLAG 4 == unmapped\n",
    "            continue # Ignore unmapped\n",
    "        gene = read.reference_name.split('|')[1]\n",
    "        dctReads[read.query_name].add(gene)\n",
    "    dctReadsFiltered = {}\n",
    "    for read, genes in dctReads.items():\n",
    "        if len(genes) == 1:\n",
    "            for gene in genes:\n",
    "                dctReadsFiltered[read] = gene\n",
    "    return dctReadsFiltered"
   ]
  },
  {
   "cell_type": "code",
   "execution_count": 6,
   "metadata": {},
   "outputs": [],
   "source": [
    "def ignore_redundant_isoforms(dctReads):\n",
    "    dctGenes = defaultdict(set)\n",
    "    for read, gene in dctReads.items():\n",
    "        dctGenes[gene].add(read)\n",
    "    return dctGenes"
   ]
  },
  {
   "cell_type": "code",
   "execution_count": 7,
   "metadata": {},
   "outputs": [],
   "source": [
    "def count_reads(dctGenes):\n",
    "    dctReadCounts = {}\n",
    "    for gene, reads in dctGenes.items():\n",
    "        dctReadCounts[gene] = len(reads)\n",
    "    return dctReadCounts"
   ]
  },
  {
   "cell_type": "code",
   "execution_count": null,
   "metadata": {},
   "outputs": [],
   "source": []
  },
  {
   "cell_type": "code",
   "execution_count": 8,
   "metadata": {},
   "outputs": [
    {
     "name": "stdout",
     "output_type": "stream",
     "text": [
      "count polya-untreated: complete!\n",
      "count polya-siLuc: complete!\n",
      "count polya-siLin28a: complete!\n",
      "count clip-35L33G: complete!\n",
      "count rpf-siLuc: complete!\n",
      "count rpf-siLin28a: complete!\n"
     ]
    }
   ],
   "source": [
    "dctSamples = {}\n",
    "for sample in SAMPLES:\n",
    "    dctSamples[sample] = read_count_per_gene(f'../alignments/{sample}.bam')\n",
    "    print(f'count {sample}: complete!')"
   ]
  },
  {
   "cell_type": "code",
   "execution_count": null,
   "metadata": {},
   "outputs": [],
   "source": []
  },
  {
   "cell_type": "markdown",
   "metadata": {},
   "source": [
    "# 2. Make dataframe"
   ]
  },
  {
   "cell_type": "markdown",
   "metadata": {},
   "source": [
    "## 2.1. Make and save dataframe"
   ]
  },
  {
   "cell_type": "code",
   "execution_count": 11,
   "metadata": {},
   "outputs": [
    {
     "data": {
      "text/html": [
       "<div>\n",
       "<style scoped>\n",
       "    .dataframe tbody tr th:only-of-type {\n",
       "        vertical-align: middle;\n",
       "    }\n",
       "\n",
       "    .dataframe tbody tr th {\n",
       "        vertical-align: top;\n",
       "    }\n",
       "\n",
       "    .dataframe thead th {\n",
       "        text-align: right;\n",
       "    }\n",
       "</style>\n",
       "<table border=\"1\" class=\"dataframe\">\n",
       "  <thead>\n",
       "    <tr style=\"text-align: right;\">\n",
       "      <th></th>\n",
       "      <th>polya-untreated</th>\n",
       "      <th>polya-siLuc</th>\n",
       "      <th>polya-siLin28a</th>\n",
       "      <th>clip-35L33G</th>\n",
       "      <th>rpf-siLuc</th>\n",
       "      <th>rpf-siLin28a</th>\n",
       "    </tr>\n",
       "  </thead>\n",
       "  <tbody>\n",
       "    <tr>\n",
       "      <th>ENSMUSG00000038697.16</th>\n",
       "      <td>1618.0</td>\n",
       "      <td>1240.0</td>\n",
       "      <td>1851.0</td>\n",
       "      <td>1846.0</td>\n",
       "      <td>554.0</td>\n",
       "      <td>584.0</td>\n",
       "    </tr>\n",
       "    <tr>\n",
       "      <th>ENSMUSG00000033906.6</th>\n",
       "      <td>217.0</td>\n",
       "      <td>157.0</td>\n",
       "      <td>187.0</td>\n",
       "      <td>564.0</td>\n",
       "      <td>132.0</td>\n",
       "      <td>138.0</td>\n",
       "    </tr>\n",
       "    <tr>\n",
       "      <th>ENSMUSG00000042770.9</th>\n",
       "      <td>323.0</td>\n",
       "      <td>283.0</td>\n",
       "      <td>445.0</td>\n",
       "      <td>152.0</td>\n",
       "      <td>423.0</td>\n",
       "      <td>332.0</td>\n",
       "    </tr>\n",
       "    <tr>\n",
       "      <th>ENSMUSG00000043716.14</th>\n",
       "      <td>7886.0</td>\n",
       "      <td>3941.0</td>\n",
       "      <td>5051.0</td>\n",
       "      <td>4613.0</td>\n",
       "      <td>3266.0</td>\n",
       "      <td>1892.0</td>\n",
       "    </tr>\n",
       "    <tr>\n",
       "      <th>ENSMUSG00000040481.18</th>\n",
       "      <td>5675.0</td>\n",
       "      <td>4798.0</td>\n",
       "      <td>6381.0</td>\n",
       "      <td>6219.0</td>\n",
       "      <td>980.0</td>\n",
       "      <td>583.0</td>\n",
       "    </tr>\n",
       "    <tr>\n",
       "      <th>...</th>\n",
       "      <td>...</td>\n",
       "      <td>...</td>\n",
       "      <td>...</td>\n",
       "      <td>...</td>\n",
       "      <td>...</td>\n",
       "      <td>...</td>\n",
       "    </tr>\n",
       "    <tr>\n",
       "      <th>ENSMUSG00000095126.4</th>\n",
       "      <td>NaN</td>\n",
       "      <td>NaN</td>\n",
       "      <td>NaN</td>\n",
       "      <td>NaN</td>\n",
       "      <td>NaN</td>\n",
       "      <td>1.0</td>\n",
       "    </tr>\n",
       "    <tr>\n",
       "      <th>ENSMUSG00000083561.4</th>\n",
       "      <td>NaN</td>\n",
       "      <td>NaN</td>\n",
       "      <td>NaN</td>\n",
       "      <td>NaN</td>\n",
       "      <td>NaN</td>\n",
       "      <td>1.0</td>\n",
       "    </tr>\n",
       "    <tr>\n",
       "      <th>ENSMUSG00000116647.2</th>\n",
       "      <td>NaN</td>\n",
       "      <td>NaN</td>\n",
       "      <td>NaN</td>\n",
       "      <td>NaN</td>\n",
       "      <td>NaN</td>\n",
       "      <td>1.0</td>\n",
       "    </tr>\n",
       "    <tr>\n",
       "      <th>ENSMUSG00000088776.3</th>\n",
       "      <td>NaN</td>\n",
       "      <td>NaN</td>\n",
       "      <td>NaN</td>\n",
       "      <td>NaN</td>\n",
       "      <td>NaN</td>\n",
       "      <td>1.0</td>\n",
       "    </tr>\n",
       "    <tr>\n",
       "      <th>ENSMUSG00000055891.8</th>\n",
       "      <td>NaN</td>\n",
       "      <td>NaN</td>\n",
       "      <td>NaN</td>\n",
       "      <td>NaN</td>\n",
       "      <td>NaN</td>\n",
       "      <td>1.0</td>\n",
       "    </tr>\n",
       "  </tbody>\n",
       "</table>\n",
       "<p>39664 rows × 6 columns</p>\n",
       "</div>"
      ],
      "text/plain": [
       "                       polya-untreated  polya-siLuc  polya-siLin28a  \\\n",
       "ENSMUSG00000038697.16           1618.0       1240.0          1851.0   \n",
       "ENSMUSG00000033906.6             217.0        157.0           187.0   \n",
       "ENSMUSG00000042770.9             323.0        283.0           445.0   \n",
       "ENSMUSG00000043716.14           7886.0       3941.0          5051.0   \n",
       "ENSMUSG00000040481.18           5675.0       4798.0          6381.0   \n",
       "...                                ...          ...             ...   \n",
       "ENSMUSG00000095126.4               NaN          NaN             NaN   \n",
       "ENSMUSG00000083561.4               NaN          NaN             NaN   \n",
       "ENSMUSG00000116647.2               NaN          NaN             NaN   \n",
       "ENSMUSG00000088776.3               NaN          NaN             NaN   \n",
       "ENSMUSG00000055891.8               NaN          NaN             NaN   \n",
       "\n",
       "                       clip-35L33G  rpf-siLuc  rpf-siLin28a  \n",
       "ENSMUSG00000038697.16       1846.0      554.0         584.0  \n",
       "ENSMUSG00000033906.6         564.0      132.0         138.0  \n",
       "ENSMUSG00000042770.9         152.0      423.0         332.0  \n",
       "ENSMUSG00000043716.14       4613.0     3266.0        1892.0  \n",
       "ENSMUSG00000040481.18       6219.0      980.0         583.0  \n",
       "...                            ...        ...           ...  \n",
       "ENSMUSG00000095126.4           NaN        NaN           1.0  \n",
       "ENSMUSG00000083561.4           NaN        NaN           1.0  \n",
       "ENSMUSG00000116647.2           NaN        NaN           1.0  \n",
       "ENSMUSG00000088776.3           NaN        NaN           1.0  \n",
       "ENSMUSG00000055891.8           NaN        NaN           1.0  \n",
       "\n",
       "[39664 rows x 6 columns]"
      ]
     },
     "execution_count": 11,
     "metadata": {},
     "output_type": "execute_result"
    }
   ],
   "source": [
    "dfCounts = pd.DataFrame(dctSamples)\n",
    "dfCounts.to_csv('read-count.txt', sep='\\t')\n",
    "dfCounts"
   ]
  },
  {
   "cell_type": "code",
   "execution_count": null,
   "metadata": {},
   "outputs": [],
   "source": []
  },
  {
   "cell_type": "markdown",
   "metadata": {},
   "source": [
    "## 2.2. Discard genes with NaN"
   ]
  },
  {
   "cell_type": "code",
   "execution_count": 16,
   "metadata": {},
   "outputs": [
    {
     "data": {
      "text/html": [
       "<div>\n",
       "<style scoped>\n",
       "    .dataframe tbody tr th:only-of-type {\n",
       "        vertical-align: middle;\n",
       "    }\n",
       "\n",
       "    .dataframe tbody tr th {\n",
       "        vertical-align: top;\n",
       "    }\n",
       "\n",
       "    .dataframe thead th {\n",
       "        text-align: right;\n",
       "    }\n",
       "</style>\n",
       "<table border=\"1\" class=\"dataframe\">\n",
       "  <thead>\n",
       "    <tr style=\"text-align: right;\">\n",
       "      <th></th>\n",
       "      <th>polya-untreated</th>\n",
       "      <th>polya-siLuc</th>\n",
       "      <th>polya-siLin28a</th>\n",
       "      <th>clip-35L33G</th>\n",
       "      <th>rpf-siLuc</th>\n",
       "      <th>rpf-siLin28a</th>\n",
       "    </tr>\n",
       "  </thead>\n",
       "  <tbody>\n",
       "    <tr>\n",
       "      <th>ENSMUSG00000038697.16</th>\n",
       "      <td>1618.0</td>\n",
       "      <td>1240.0</td>\n",
       "      <td>1851.0</td>\n",
       "      <td>1846.0</td>\n",
       "      <td>554.0</td>\n",
       "      <td>584.0</td>\n",
       "    </tr>\n",
       "    <tr>\n",
       "      <th>ENSMUSG00000033906.6</th>\n",
       "      <td>217.0</td>\n",
       "      <td>157.0</td>\n",
       "      <td>187.0</td>\n",
       "      <td>564.0</td>\n",
       "      <td>132.0</td>\n",
       "      <td>138.0</td>\n",
       "    </tr>\n",
       "    <tr>\n",
       "      <th>ENSMUSG00000042770.9</th>\n",
       "      <td>323.0</td>\n",
       "      <td>283.0</td>\n",
       "      <td>445.0</td>\n",
       "      <td>152.0</td>\n",
       "      <td>423.0</td>\n",
       "      <td>332.0</td>\n",
       "    </tr>\n",
       "    <tr>\n",
       "      <th>ENSMUSG00000043716.14</th>\n",
       "      <td>7886.0</td>\n",
       "      <td>3941.0</td>\n",
       "      <td>5051.0</td>\n",
       "      <td>4613.0</td>\n",
       "      <td>3266.0</td>\n",
       "      <td>1892.0</td>\n",
       "    </tr>\n",
       "    <tr>\n",
       "      <th>ENSMUSG00000040481.18</th>\n",
       "      <td>5675.0</td>\n",
       "      <td>4798.0</td>\n",
       "      <td>6381.0</td>\n",
       "      <td>6219.0</td>\n",
       "      <td>980.0</td>\n",
       "      <td>583.0</td>\n",
       "    </tr>\n",
       "    <tr>\n",
       "      <th>...</th>\n",
       "      <td>...</td>\n",
       "      <td>...</td>\n",
       "      <td>...</td>\n",
       "      <td>...</td>\n",
       "      <td>...</td>\n",
       "      <td>...</td>\n",
       "    </tr>\n",
       "    <tr>\n",
       "      <th>ENSMUSG00000031089.8</th>\n",
       "      <td>1.0</td>\n",
       "      <td>3.0</td>\n",
       "      <td>4.0</td>\n",
       "      <td>15.0</td>\n",
       "      <td>5.0</td>\n",
       "      <td>15.0</td>\n",
       "    </tr>\n",
       "    <tr>\n",
       "      <th>ENSMUSG00000001773.15</th>\n",
       "      <td>1.0</td>\n",
       "      <td>1.0</td>\n",
       "      <td>9.0</td>\n",
       "      <td>20.0</td>\n",
       "      <td>9.0</td>\n",
       "      <td>16.0</td>\n",
       "    </tr>\n",
       "    <tr>\n",
       "      <th>ENSMUSG00000085485.2</th>\n",
       "      <td>1.0</td>\n",
       "      <td>3.0</td>\n",
       "      <td>1.0</td>\n",
       "      <td>4.0</td>\n",
       "      <td>2.0</td>\n",
       "      <td>4.0</td>\n",
       "    </tr>\n",
       "    <tr>\n",
       "      <th>ENSMUSG00000117637.2</th>\n",
       "      <td>1.0</td>\n",
       "      <td>1.0</td>\n",
       "      <td>2.0</td>\n",
       "      <td>9.0</td>\n",
       "      <td>1.0</td>\n",
       "      <td>1.0</td>\n",
       "    </tr>\n",
       "    <tr>\n",
       "      <th>ENSMUSG00000083713.2</th>\n",
       "      <td>1.0</td>\n",
       "      <td>4.0</td>\n",
       "      <td>3.0</td>\n",
       "      <td>24.0</td>\n",
       "      <td>11.0</td>\n",
       "      <td>5.0</td>\n",
       "    </tr>\n",
       "  </tbody>\n",
       "</table>\n",
       "<p>15374 rows × 6 columns</p>\n",
       "</div>"
      ],
      "text/plain": [
       "                       polya-untreated  polya-siLuc  polya-siLin28a  \\\n",
       "ENSMUSG00000038697.16           1618.0       1240.0          1851.0   \n",
       "ENSMUSG00000033906.6             217.0        157.0           187.0   \n",
       "ENSMUSG00000042770.9             323.0        283.0           445.0   \n",
       "ENSMUSG00000043716.14           7886.0       3941.0          5051.0   \n",
       "ENSMUSG00000040481.18           5675.0       4798.0          6381.0   \n",
       "...                                ...          ...             ...   \n",
       "ENSMUSG00000031089.8               1.0          3.0             4.0   \n",
       "ENSMUSG00000001773.15              1.0          1.0             9.0   \n",
       "ENSMUSG00000085485.2               1.0          3.0             1.0   \n",
       "ENSMUSG00000117637.2               1.0          1.0             2.0   \n",
       "ENSMUSG00000083713.2               1.0          4.0             3.0   \n",
       "\n",
       "                       clip-35L33G  rpf-siLuc  rpf-siLin28a  \n",
       "ENSMUSG00000038697.16       1846.0      554.0         584.0  \n",
       "ENSMUSG00000033906.6         564.0      132.0         138.0  \n",
       "ENSMUSG00000042770.9         152.0      423.0         332.0  \n",
       "ENSMUSG00000043716.14       4613.0     3266.0        1892.0  \n",
       "ENSMUSG00000040481.18       6219.0      980.0         583.0  \n",
       "...                            ...        ...           ...  \n",
       "ENSMUSG00000031089.8          15.0        5.0          15.0  \n",
       "ENSMUSG00000001773.15         20.0        9.0          16.0  \n",
       "ENSMUSG00000085485.2           4.0        2.0           4.0  \n",
       "ENSMUSG00000117637.2           9.0        1.0           1.0  \n",
       "ENSMUSG00000083713.2          24.0       11.0           5.0  \n",
       "\n",
       "[15374 rows x 6 columns]"
      ]
     },
     "execution_count": 16,
     "metadata": {},
     "output_type": "execute_result"
    }
   ],
   "source": [
    "dfFiltered = dfCounts.dropna(axis=0)\n",
    "dfFiltered"
   ]
  },
  {
   "cell_type": "markdown",
   "metadata": {},
   "source": [
    "## 2.2. Discard genes with low read counts"
   ]
  },
  {
   "cell_type": "code",
   "execution_count": 17,
   "metadata": {},
   "outputs": [],
   "source": [
    "RPF_CUTOFF  = 80\n",
    "CLIP_CUTOFF = 30"
   ]
  },
  {
   "cell_type": "code",
   "execution_count": 18,
   "metadata": {},
   "outputs": [
    {
     "name": "stderr",
     "output_type": "stream",
     "text": [
      "/usr/local/lib/python3.6/dist-packages/ipykernel_launcher.py:2: UserWarning: Boolean Series key will be reindexed to match DataFrame index.\n",
      "  \n"
     ]
    },
    {
     "data": {
      "text/html": [
       "<div>\n",
       "<style scoped>\n",
       "    .dataframe tbody tr th:only-of-type {\n",
       "        vertical-align: middle;\n",
       "    }\n",
       "\n",
       "    .dataframe tbody tr th {\n",
       "        vertical-align: top;\n",
       "    }\n",
       "\n",
       "    .dataframe thead th {\n",
       "        text-align: right;\n",
       "    }\n",
       "</style>\n",
       "<table border=\"1\" class=\"dataframe\">\n",
       "  <thead>\n",
       "    <tr style=\"text-align: right;\">\n",
       "      <th></th>\n",
       "      <th>polya-untreated</th>\n",
       "      <th>polya-siLuc</th>\n",
       "      <th>polya-siLin28a</th>\n",
       "      <th>clip-35L33G</th>\n",
       "      <th>rpf-siLuc</th>\n",
       "      <th>rpf-siLin28a</th>\n",
       "    </tr>\n",
       "  </thead>\n",
       "  <tbody>\n",
       "    <tr>\n",
       "      <th>ENSMUSG00000038697.16</th>\n",
       "      <td>1618.0</td>\n",
       "      <td>1240.0</td>\n",
       "      <td>1851.0</td>\n",
       "      <td>1846.0</td>\n",
       "      <td>554.0</td>\n",
       "      <td>584.0</td>\n",
       "    </tr>\n",
       "    <tr>\n",
       "      <th>ENSMUSG00000033906.6</th>\n",
       "      <td>217.0</td>\n",
       "      <td>157.0</td>\n",
       "      <td>187.0</td>\n",
       "      <td>564.0</td>\n",
       "      <td>132.0</td>\n",
       "      <td>138.0</td>\n",
       "    </tr>\n",
       "    <tr>\n",
       "      <th>ENSMUSG00000042770.9</th>\n",
       "      <td>323.0</td>\n",
       "      <td>283.0</td>\n",
       "      <td>445.0</td>\n",
       "      <td>152.0</td>\n",
       "      <td>423.0</td>\n",
       "      <td>332.0</td>\n",
       "    </tr>\n",
       "    <tr>\n",
       "      <th>ENSMUSG00000043716.14</th>\n",
       "      <td>7886.0</td>\n",
       "      <td>3941.0</td>\n",
       "      <td>5051.0</td>\n",
       "      <td>4613.0</td>\n",
       "      <td>3266.0</td>\n",
       "      <td>1892.0</td>\n",
       "    </tr>\n",
       "    <tr>\n",
       "      <th>ENSMUSG00000040481.18</th>\n",
       "      <td>5675.0</td>\n",
       "      <td>4798.0</td>\n",
       "      <td>6381.0</td>\n",
       "      <td>6219.0</td>\n",
       "      <td>980.0</td>\n",
       "      <td>583.0</td>\n",
       "    </tr>\n",
       "    <tr>\n",
       "      <th>...</th>\n",
       "      <td>...</td>\n",
       "      <td>...</td>\n",
       "      <td>...</td>\n",
       "      <td>...</td>\n",
       "      <td>...</td>\n",
       "      <td>...</td>\n",
       "    </tr>\n",
       "    <tr>\n",
       "      <th>ENSMUSG00000060981.8</th>\n",
       "      <td>5.0</td>\n",
       "      <td>7.0</td>\n",
       "      <td>5.0</td>\n",
       "      <td>462.0</td>\n",
       "      <td>6718.0</td>\n",
       "      <td>4907.0</td>\n",
       "    </tr>\n",
       "    <tr>\n",
       "      <th>ENSMUSG00000108599.2</th>\n",
       "      <td>6.0</td>\n",
       "      <td>19.0</td>\n",
       "      <td>17.0</td>\n",
       "      <td>110.0</td>\n",
       "      <td>1706.0</td>\n",
       "      <td>1391.0</td>\n",
       "    </tr>\n",
       "    <tr>\n",
       "      <th>ENSMUSG00000055775.17</th>\n",
       "      <td>2.0</td>\n",
       "      <td>43.0</td>\n",
       "      <td>13.0</td>\n",
       "      <td>55.0</td>\n",
       "      <td>1287.0</td>\n",
       "      <td>669.0</td>\n",
       "    </tr>\n",
       "    <tr>\n",
       "      <th>ENSMUSG00000114279.2</th>\n",
       "      <td>2.0</td>\n",
       "      <td>3.0</td>\n",
       "      <td>3.0</td>\n",
       "      <td>722.0</td>\n",
       "      <td>3482.0</td>\n",
       "      <td>2083.0</td>\n",
       "    </tr>\n",
       "    <tr>\n",
       "      <th>ENSMUSG00000069265.3</th>\n",
       "      <td>2.0</td>\n",
       "      <td>1.0</td>\n",
       "      <td>3.0</td>\n",
       "      <td>327.0</td>\n",
       "      <td>6310.0</td>\n",
       "      <td>4526.0</td>\n",
       "    </tr>\n",
       "  </tbody>\n",
       "</table>\n",
       "<p>8016 rows × 6 columns</p>\n",
       "</div>"
      ],
      "text/plain": [
       "                       polya-untreated  polya-siLuc  polya-siLin28a  \\\n",
       "ENSMUSG00000038697.16           1618.0       1240.0          1851.0   \n",
       "ENSMUSG00000033906.6             217.0        157.0           187.0   \n",
       "ENSMUSG00000042770.9             323.0        283.0           445.0   \n",
       "ENSMUSG00000043716.14           7886.0       3941.0          5051.0   \n",
       "ENSMUSG00000040481.18           5675.0       4798.0          6381.0   \n",
       "...                                ...          ...             ...   \n",
       "ENSMUSG00000060981.8               5.0          7.0             5.0   \n",
       "ENSMUSG00000108599.2               6.0         19.0            17.0   \n",
       "ENSMUSG00000055775.17              2.0         43.0            13.0   \n",
       "ENSMUSG00000114279.2               2.0          3.0             3.0   \n",
       "ENSMUSG00000069265.3               2.0          1.0             3.0   \n",
       "\n",
       "                       clip-35L33G  rpf-siLuc  rpf-siLin28a  \n",
       "ENSMUSG00000038697.16       1846.0      554.0         584.0  \n",
       "ENSMUSG00000033906.6         564.0      132.0         138.0  \n",
       "ENSMUSG00000042770.9         152.0      423.0         332.0  \n",
       "ENSMUSG00000043716.14       4613.0     3266.0        1892.0  \n",
       "ENSMUSG00000040481.18       6219.0      980.0         583.0  \n",
       "...                            ...        ...           ...  \n",
       "ENSMUSG00000060981.8         462.0     6718.0        4907.0  \n",
       "ENSMUSG00000108599.2         110.0     1706.0        1391.0  \n",
       "ENSMUSG00000055775.17         55.0     1287.0         669.0  \n",
       "ENSMUSG00000114279.2         722.0     3482.0        2083.0  \n",
       "ENSMUSG00000069265.3         327.0     6310.0        4526.0  \n",
       "\n",
       "[8016 rows x 6 columns]"
      ]
     },
     "execution_count": 18,
     "metadata": {},
     "output_type": "execute_result"
    }
   ],
   "source": [
    "dfFiltered = dfFiltered[dfFiltered['rpf-siLuc'] >= RPF_CUTOFF]\\\n",
    "                       [dfFiltered['clip-35L33G'] >= CLIP_CUTOFF]\n",
    "dfFiltered"
   ]
  },
  {
   "cell_type": "code",
   "execution_count": null,
   "metadata": {},
   "outputs": [],
   "source": []
  },
  {
   "cell_type": "markdown",
   "metadata": {},
   "source": [
    "# 3. Plot Figure 4D"
   ]
  },
  {
   "cell_type": "code",
   "execution_count": 24,
   "metadata": {},
   "outputs": [],
   "source": [
    "PSEUDO = 0.01\n",
    "pseudoLog2 = lambda x: math.log2(x + PSEUDO)"
   ]
  },
  {
   "cell_type": "code",
   "execution_count": 25,
   "metadata": {},
   "outputs": [
    {
     "data": {
      "text/plain": [
       "ENSMUSG00000038697.16    0.190190\n",
       "ENSMUSG00000033906.6     1.377959\n",
       "ENSMUSG00000042770.9    -1.087413\n",
       "ENSMUSG00000043716.14   -0.773587\n",
       "ENSMUSG00000040481.18    0.132062\n",
       "                           ...   \n",
       "ENSMUSG00000060981.8     6.526970\n",
       "ENSMUSG00000108599.2     4.194126\n",
       "ENSMUSG00000055775.17    4.774426\n",
       "ENSMUSG00000114279.2     8.488680\n",
       "ENSMUSG00000069265.3     7.345995\n",
       "Length: 8016, dtype: float64"
      ]
     },
     "execution_count": 25,
     "metadata": {},
     "output_type": "execute_result"
    }
   ],
   "source": [
    "seClip = dfFiltered['clip-35L33G'].apply(pseudoLog2).sub(dfFiltered['polya-untreated'].apply(pseudoLog2))\n",
    "seClip"
   ]
  },
  {
   "cell_type": "code",
   "execution_count": 26,
   "metadata": {},
   "outputs": [
    {
     "data": {
      "text/plain": [
       "ENSMUSG00000038697.16    -1.664248\n",
       "ENSMUSG00000033906.6     -0.438343\n",
       "ENSMUSG00000042770.9     -0.422611\n",
       "ENSMUSG00000043716.14    -1.416652\n",
       "ENSMUSG00000040481.18    -3.452192\n",
       "                           ...    \n",
       "ENSMUSG00000060981.8      9.935818\n",
       "ENSMUSG00000108599.2      6.353606\n",
       "ENSMUSG00000055775.17     5.684335\n",
       "ENSMUSG00000114279.2      9.434691\n",
       "ENSMUSG00000069265.3     10.554261\n",
       "Length: 8016, dtype: float64"
      ]
     },
     "execution_count": 26,
     "metadata": {},
     "output_type": "execute_result"
    }
   ],
   "source": [
    "seSiLin28a = dfFiltered['rpf-siLin28a'].apply(pseudoLog2).sub(dfFiltered['polya-siLin28a'].apply(pseudoLog2))\n",
    "seSiLin28a"
   ]
  },
  {
   "cell_type": "code",
   "execution_count": 27,
   "metadata": {},
   "outputs": [
    {
     "data": {
      "text/plain": [
       "ENSMUSG00000038697.16    -1.162368\n",
       "ENSMUSG00000033906.6     -0.250209\n",
       "ENSMUSG00000042770.9      0.579839\n",
       "ENSMUSG00000043716.14    -0.271036\n",
       "ENSMUSG00000040481.18    -2.291568\n",
       "                           ...    \n",
       "ENSMUSG00000060981.8      9.904404\n",
       "ENSMUSG00000108599.2      6.487724\n",
       "ENSMUSG00000055775.17     4.903207\n",
       "ENSMUSG00000114279.2     10.175941\n",
       "ENSMUSG00000069265.3     12.609071\n",
       "Length: 8016, dtype: float64"
      ]
     },
     "execution_count": 27,
     "metadata": {},
     "output_type": "execute_result"
    }
   ],
   "source": [
    "seSiLuc = dfFiltered['rpf-siLuc'].apply(pseudoLog2).sub(dfFiltered['polya-siLuc'].apply(pseudoLog2))\n",
    "seSiLuc"
   ]
  },
  {
   "cell_type": "code",
   "execution_count": 28,
   "metadata": {},
   "outputs": [
    {
     "data": {
      "text/plain": [
       "ENSMUSG00000038697.16   -0.501880\n",
       "ENSMUSG00000033906.6    -0.188133\n",
       "ENSMUSG00000042770.9    -1.002450\n",
       "ENSMUSG00000043716.14   -1.145616\n",
       "ENSMUSG00000040481.18   -1.160624\n",
       "                           ...   \n",
       "ENSMUSG00000060981.8     0.031414\n",
       "ENSMUSG00000108599.2    -0.134118\n",
       "ENSMUSG00000055775.17    0.781128\n",
       "ENSMUSG00000114279.2    -0.741251\n",
       "ENSMUSG00000069265.3    -2.054811\n",
       "Length: 8016, dtype: float64"
      ]
     },
     "execution_count": 28,
     "metadata": {},
     "output_type": "execute_result"
    }
   ],
   "source": [
    "seRpf = seSiLin28a.sub(seSiLuc)\n",
    "seRpf"
   ]
  },
  {
   "cell_type": "code",
   "execution_count": 77,
   "metadata": {},
   "outputs": [
    {
     "data": {
      "text/plain": [
       "Text(1.5, -2.7, '$r$ = 0.4883')"
      ]
     },
     "execution_count": 77,
     "metadata": {},
     "output_type": "execute_result"
    },
    {
     "data": {
      "image/png": "[encoded data removed]",
      "text/plain": [
       "<Figure size 216x216 with 1 Axes>"
      ]
     },
     "metadata": {
      "needs_background": "light"
     },
     "output_type": "display_data"
    }
   ],
   "source": [
    "fig4, axd = plt.subplots(nrows=1, ncols=1, figsize=(3,3))\n",
    "\n",
    "axd.scatter(x=seClip, y=seRpf, s=1, alpha=0.2, color='black', zorder=10)\n",
    "axd.set_xlim(-5, 5)\n",
    "axd.set_ylim(-3, 2)\n",
    "\n",
    "axd.grid(axis='both', zorder=1)\n",
    "\n",
    "axd.set_title('CLIP and ribosome footprinting\\nupon Lin28a knockdown', fontsize=12)\n",
    "axd.set_xlabel('LIN28A CLIP enrichment (log\\u2082)', fontsize=12)\n",
    "axd.set_ylabel('Ribosome density change\\nupon Lin28a knockdown (log\\u2082)', fontsize=12)\n",
    "fCorr = round(stats.pearsonr(seClip, seRpf)[0], 4)\n",
    "axd.text(1.5, -2.7, r'$r$' + f' = {fCorr}')"
   ]
  },
  {
   "cell_type": "code",
   "execution_count": null,
   "metadata": {},
   "outputs": [],
   "source": []
  },
  {
   "cell_type": "markdown",
   "metadata": {},
   "source": [
    "# 4. GO terms"
   ]
  },
  {
   "cell_type": "markdown",
   "metadata": {},
   "source": [
    "to do"
   ]
  },
  {
   "cell_type": "code",
   "execution_count": null,
   "metadata": {},
   "outputs": [],
   "source": []
  }
 ],
 "metadata": {
  "kernelspec": {
   "display_name": "Python 3",
   "language": "python",
   "name": "python3"
  },
  "language_info": {
   "codemirror_mode": {
    "name": "ipython",
    "version": 3
   },
   "file_extension": ".py",
   "mimetype": "text/x-python",
   "name": "python",
   "nbconvert_exporter": "python",
   "pygments_lexer": "ipython3",
   "version": "3.6.7"
  }
 },
 "nbformat": 4,
 "nbformat_minor": 2
}
